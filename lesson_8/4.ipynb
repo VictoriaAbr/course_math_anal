{
 "cells": [
  {
   "cell_type": "code",
   "execution_count": 200,
   "metadata": {},
   "outputs": [],
   "source": [
    "import numpy as np\n",
    "from scipy.optimize import fsolve, broyden2\n",
    "import math"
   ]
  },
  {
   "cell_type": "code",
   "execution_count": 218,
   "metadata": {},
   "outputs": [
    {
     "name": "stdout",
     "output_type": "stream",
     "text": [
      "x: -3.6530799635701765, y: -0.2747634192662361\n"
     ]
    }
   ],
   "source": [
    "def equations(p):\n",
    "    x, y = p\n",
    "    u1 = x**2-y**2+3*x*y**3-2*x**2*y**2+2*x-3*y-5\n",
    "    u2 = 3*y**3-2*x**2+2*x**3*y-5*x**2*y**2+5\n",
    "    return (u1, u2)\n",
    "\n",
    "x, y =  fsolve(equations, (-100, 10))\n",
    "print (f'x: {x}, y: {y}')"
   ]
  },
  {
   "cell_type": "code",
   "execution_count": 219,
   "metadata": {},
   "outputs": [
    {
     "name": "stdout",
     "output_type": "stream",
     "text": [
      "{(1.37568, -0.17475), (2.49435, 0.70831), (2.21775, 0.61019), (1.2733, 1.66203), (-3.65307, -0.27476)}\n"
     ]
    }
   ],
   "source": [
    "solv = set()\n",
    "for x in np.arange (-10, 10, 1):\n",
    "    for y in np.arange (-10, 10, 1):\n",
    "        ll = set()\n",
    "        (x, y), info, ier, mesg =  fsolve(equations, (x, y), full_output=True)\n",
    "        if (ier == 1): solv.add((int(x*10**5)/10**5, int(y*10**5)/10**5))\n",
    "#         print (float(x), float(y), ier)\n",
    "            \n",
    "print (solv)"
   ]
  },
  {
   "cell_type": "code",
   "execution_count": null,
   "metadata": {},
   "outputs": [],
   "source": []
  },
  {
   "cell_type": "code",
   "execution_count": null,
   "metadata": {},
   "outputs": [],
   "source": []
  }
 ],
 "metadata": {
  "kernelspec": {
   "display_name": "Python 3",
   "language": "python",
   "name": "python3"
  },
  "language_info": {
   "codemirror_mode": {
    "name": "ipython",
    "version": 3
   },
   "file_extension": ".py",
   "mimetype": "text/x-python",
   "name": "python",
   "nbconvert_exporter": "python",
   "pygments_lexer": "ipython3",
   "version": "3.8.5"
  }
 },
 "nbformat": 4,
 "nbformat_minor": 4
}
